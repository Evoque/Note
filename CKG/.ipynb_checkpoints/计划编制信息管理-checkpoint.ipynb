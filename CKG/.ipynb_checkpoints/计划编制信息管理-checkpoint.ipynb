{
 "cells": [
  {
   "cell_type": "markdown",
   "metadata": {},
   "source": [
    "## 计划编制信息管理\n",
    "\n",
    "- 轧制规范维护\n",
    "    - 轧制规范维护\n",
    "        + 厚度跳跃规程【轧制单位类型(中厚)、厚度跳跃方式(顺|逆跳)、最大允许值(50mm)】\n",
    "        + 宽度跳跃规程【轧制单位类型、宽度跳跃方式、最大允许值】\n",
    "        + 烫辊材规程【牌号、宽度下限、宽度上限、厚度下限、厚度上限】\n",
    "        + 同宽轧制公里数限制【轧制单位类型(中厚)、同宽类型(绝对同宽、20mm同宽)、同宽允许公里数(5000km)】\n",
    "        + 轧制单位长度【轧制单位类型、最大允许公里数、最大允许重量】\n",
    "        + 轧制单位类型【轧制单位类型、轧制类型说明、宽度下限、宽度上限、厚度下限】\n",
    "- **工单**\n",
    "- 工单信息查询\n",
    "    + 表工单计划\n",
    "- 轧钢工单信息维护： **维护工单基本数据**\n",
    "- 工单信息追踪\n",
    "- 轧钢工单分解\n",
    "    + 表工单计划(**ba_rp**) => 表工序计划(**wp_rp**) \n",
    "- \n",
    "- 工序计划查询\n",
    "    + 工序计划表(wp_rp)，选取摘要 & 明细用于计划显示\n",
    "- 工序计划维护\n",
    "\n",
    "- 轧制欠量查询\n",
    "    + 根据工序计划(**wp_rp**)建立欠量搜索视图(**wp_rpaaa**)\n",
    "- 炼钢出钢计划查询\n",
    "    + 连铸的出钢计划\n",
    "- 合同生产规格差异查询\n",
    "    + 合同厚度 vs 发货厚度， 合同宽度 vs 发货宽度\n",
    "    + 钢卷文件(**CY_COILDATA**) && 工序计划表(**WP_RP**) 的级联查询\n",
    "- 轧制计划历史信息查询\n",
    "    + 轧制计划 & 轧制计划明细\n",
    "    + 计划状态\n",
    "        + 炉前吊销\n",
    "        + 未下PDI\n",
    "        + 已下PDI\n",
    "        + 入炉审核\n",
    "        + 炉内\n",
    "        + 已出炉\n",
    "        + 炉后吊销\n",
    "        + 中板\n",
    "        + 轧废\n",
    "        + 已轧制\n",
    "        \n",
    "- \n",
    "- 合同执行情况追踪\n",
    "    + 工序计划\n",
    "    + 轧制计划明细\n",
    "- 计划单号信息跟踪与处理 \n",
    "    - 工序计划\n",
    "    - 轧制计划明细\n",
    "    - 进入轧线和已轧制完成的板坯\n",
    "        + 入炉审核\n",
    "        + 炉内\n",
    "        + 已出炉\n",
    "        + 已轧制\n",
    "- \n",
    "- DHCR计划编制 (**热送热装**)\n",
    "    + 功能\n",
    "        - 排入板坯\n",
    "        - 撤销板坯\n",
    "        - 计划审核\n",
    "        - 计划确认\n",
    "    + 轧制单位类型定义(**PP_RPTYPE**): 轧制单位类型、宽度下限、宽度上限、厚度上限、厚度下限、轧制类型说明\n",
    "    + 可生产钢种(**QM_PRODSTEEL**)：牌号、生产标准、可否热装\n",
    "    + 厚度公差表(**QM_THICKTOL**)：牌号、花纹标记\n",
    "    + 用途标准数据集 => 凸度平直度公差表(**QM_CROWNFLAT**)： 用途代码、执行标准、牌号\n",
    "    + 工序计划(**WP_RP**)\n",
    "- 轧制计划编制\n",
    "    + 功能 【工单刷新 & 板坯查询 & 排入板坯 & 撤销板坯 & 计划审核 & 计划确认】\n",
    "    + 筛选条件 【装炉类型(冷装、热装)、热装坯(n小时内)、计划开轧时间、排入量(根据所选计划单信息)、花纹标记、按照合同选坯、烫辊审核、板坯厚、宽度范围、长度范围、钢号1、钢号2、钢号3、垛位号、炉号、选坯方式(手动|自动 选择)】，如图![](./imgs/rollPlan.png)\n",
    "- 轧制计划吊销\n",
    "    + 轧制计划 & 轧制计划明细\n",
    "- 轧制计划调整\n",
    "    + 编制状态 & 调整状态 & 完成状态\n",
    "    + 数据保存\n",
    "- 打印轧制计划\n",
    "    + 计划明细如下图： ![](./imgs/planPrint.png)\n",
    "- 钢种对应合同功能6 【通过钢号||牌号，查询相应的工单信息】\n",
    "    + 板坯文件(sy_slabdata) & 牌号钢号对照表(rl_steel_gh)\n",
    "- 有合同钢板重量功能6\n",
    "\n",
    "\n",
    "\n",
    "\n",
    "\n",
    "\n",
    "\n",
    "\n"
   ]
  },
  {
   "cell_type": "code",
   "execution_count": null,
   "metadata": {
    "collapsed": true
   },
   "outputs": [],
   "source": []
  },
  {
   "cell_type": "code",
   "execution_count": null,
   "metadata": {
    "collapsed": true
   },
   "outputs": [],
   "source": []
  },
  {
   "cell_type": "code",
   "execution_count": null,
   "metadata": {
    "collapsed": true
   },
   "outputs": [],
   "source": []
  },
  {
   "cell_type": "code",
   "execution_count": null,
   "metadata": {
    "collapsed": true
   },
   "outputs": [],
   "source": []
  },
  {
   "cell_type": "code",
   "execution_count": null,
   "metadata": {
    "collapsed": true
   },
   "outputs": [],
   "source": []
  },
  {
   "cell_type": "code",
   "execution_count": null,
   "metadata": {
    "collapsed": true
   },
   "outputs": [],
   "source": []
  },
  {
   "cell_type": "code",
   "execution_count": null,
   "metadata": {
    "collapsed": true
   },
   "outputs": [],
   "source": []
  },
  {
   "cell_type": "code",
   "execution_count": null,
   "metadata": {
    "collapsed": true
   },
   "outputs": [],
   "source": []
  },
  {
   "cell_type": "code",
   "execution_count": null,
   "metadata": {
    "collapsed": true
   },
   "outputs": [],
   "source": []
  },
  {
   "cell_type": "code",
   "execution_count": null,
   "metadata": {
    "collapsed": true
   },
   "outputs": [],
   "source": []
  },
  {
   "cell_type": "code",
   "execution_count": null,
   "metadata": {
    "collapsed": true
   },
   "outputs": [],
   "source": []
  },
  {
   "cell_type": "code",
   "execution_count": null,
   "metadata": {
    "collapsed": true
   },
   "outputs": [],
   "source": []
  },
  {
   "cell_type": "code",
   "execution_count": null,
   "metadata": {
    "collapsed": true
   },
   "outputs": [],
   "source": []
  },
  {
   "cell_type": "code",
   "execution_count": null,
   "metadata": {
    "collapsed": true
   },
   "outputs": [],
   "source": []
  },
  {
   "cell_type": "code",
   "execution_count": null,
   "metadata": {
    "collapsed": true
   },
   "outputs": [],
   "source": []
  },
  {
   "cell_type": "code",
   "execution_count": null,
   "metadata": {
    "collapsed": true
   },
   "outputs": [],
   "source": []
  },
  {
   "cell_type": "code",
   "execution_count": null,
   "metadata": {
    "collapsed": true
   },
   "outputs": [],
   "source": [
    "\n",
    "\n",
    "\n",
    "\n",
    "\n",
    "\n",
    "\n",
    "\n",
    "\n",
    "\n",
    "\n",
    "\n",
    "\n",
    "\n",
    "\n",
    "\n",
    "\n",
    "\n",
    "\n",
    "\n",
    "\n",
    "\n",
    "\n",
    "\n",
    "\n",
    "\n",
    "\n",
    "\n",
    "\n",
    "\n",
    "\n",
    "\n",
    "\n",
    "\n",
    "\n",
    "\n",
    "\n",
    "\n",
    "\n",
    "\n",
    "\n",
    "\n",
    "\n",
    "\n",
    "\n",
    "\n",
    "\n",
    "\n"
   ]
  }
 ],
 "metadata": {
  "kernelspec": {
   "display_name": "Python 3",
   "language": "python",
   "name": "python3"
  },
  "language_info": {
   "codemirror_mode": {
    "name": "ipython",
    "version": 3
   },
   "file_extension": ".py",
   "mimetype": "text/x-python",
   "name": "python",
   "nbconvert_exporter": "python",
   "pygments_lexer": "ipython3",
   "version": "3.6.0"
  }
 },
 "nbformat": 4,
 "nbformat_minor": 2
}
