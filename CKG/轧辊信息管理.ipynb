{
 "cells": [
  {
   "cell_type": "markdown",
   "metadata": {},
   "source": [
    "\n",
    "## 功能目录\n",
    "\n",
    "- 轧辊基础信息管理\n",
    "    + 1新辊到货登记功能：**tl_rolldata 轧辊基础数据表** 轧辊基础信息\n",
    "    + 2轧辊入库验收等级：**to_rolldata 轧辊基础数据表** 具体轧辊信息\n",
    "    + 轧辊基础信息维护\n",
    "    + 轧辊厂名代号维护\n",
    "\n",
    "- 轧辊技术标准维护\n",
    "    + 各机架辊径标准\n",
    "    + 辊径配对标准\n",
    "    + 磨削量标准维护\n",
    "    + 轧辊一般技术条件维护功能\n",
    "    + 轧辊特殊技术条件维护功能\n",
    "    + 辊型值维护\n",
    "\n",
    "- 轧辊信息查询\n",
    "    + 轧辊基础信息查询\n",
    "    + 可配对轧辊信息查询\n",
    "    + 送辊信息查询\n",
    "    + 已下PDI轧辊信息查询\n",
    "    + 轧辊历程信息查询\n",
    "    + 轧辊信息综合查询\n",
    "    + 磨辊曲线查询\n",
    "    + 轧辊磨削前后曲线查询\n",
    "    + 在线轧辊信息查询\n",
    "   \n",
    "- 轧辊生产管理\n",
    "    + 1轧辊配对管理\n",
    "    + 2送辊管理功能 \n",
    "    + 3轧辊PDI下达\n",
    "    + 4轧辊下线质量等级功能\n",
    "    + 5磨辊计划编制与下达\n",
    "    + 6磨辊实绩接收\n",
    "    + 7磨辊质量判定\n",
    "    + 8配辊解除功能\n",
    "    + 轧辊手动下线\n",
    "    + 磨削数据维护\n",
    "    + 取消磨辊质量判定\n",
    "   \n",
    "- 轧辊统计报表\n",
    "    + 轧辊磨削量报表\n",
    "    + 轧辊辊耗报表\n",
    "    + 厂家辊耗报表\n",
    "    + 轧辊辊耗详细清单\n",
    "    + 轧辊当前重量统计\n",
    "    + 轧辊数量统计\n",
    "    + 轧辊磨削支数统计\n",
    "\n",
    "\n"
   ]
  },
  {
   "cell_type": "markdown",
   "metadata": {},
   "source": [
    "## 轧辊基础信息管理\n",
    "- \n",
    "    + 1新辊到货登记功能：**tl_rolldata 轧辊基础数据表** 辊基本信息 图1\n",
    "    + 2轧辊入库验收等级：**tl_rolldata 轧辊基础数据表** 具体轧辊信息 图2\n",
    "    + 轧辊基础信息维护：**tl_rolldata** 全部基础信息\n",
    "    + 轧辊厂名代号维护：**tl_roller_producer** 图3\n",
    "    - 图1 新辊到货轧  ![](./imgs/newroller_mx.png) \n",
    "        +  ![](./imgs/newroller_lb.png)\n",
    "    - 图2 入库验收 ![](./imgs/rollerInstockInfo.png)\n",
    "    - 图3 厂名代号 ![](./imgs/facNo.png)"
   ]
  },
  {
   "cell_type": "markdown",
   "metadata": {},
   "source": [
    "## 轧辊技术标准维护\n",
    "- \n",
    "    + 各机架辊径标准, **单表维护**\n",
    "    + 辊径配对标准,   **单表维护**\n",
    "    + 磨削量标准维护, **单表维护**\n",
    "    + 轧辊一般技术条件维护功能 **单表维护**\n",
    "    + 轧辊特殊技术条件维护功能 **单表维护**\n",
    "    + 辊型值维护            **单表维护**\n",
    "    - **示意图**  \n",
    "    - 图1 ![](./imgs/tl_dia_stand.png)\n",
    "    - 图2 ![](./imgs/tl_roller_match.png)\n",
    "    - 图3 ![](./imgs/tl_roller_grind_stand.png)\n",
    "    - 图4 ![](./imgs/tl_roller_stand.png)\n",
    "    - 图5 ![](./imgs/tl_roller_spstand.png)\n",
    "    - 图6 ![](./imgs/TL_ROLLTYPE.png)"
   ]
  },
  {
   "cell_type": "markdown",
   "metadata": {
    "collapsed": true
   },
   "source": [
    "## 轧辊信息查询\n",
    "- \n",
    "    + 轧辊基础信息查询  =>  **基础信息表的查询**\n",
    "    + 可配对轧辊信息查询 => **基础信息表 + 配辊履历表**\n",
    "    + 送辊信息查询    => **基础信息表，区分未送辊 & 已送辊**\n",
    "    + 已下PDI轧辊信息查询 => **基础信息表 + 轧辊数据PDI + 磨辊实绩**\n",
    "    + 轧辊历程信息查询  => **轧辊基础信息表 + 轧辊历程数据**\n",
    "    + 轧辊信息综合查询 **PDI + 磨辊记录 + 轧辊历程** ![](./imgs/轧辊信息综合查询.png)\n",
    "    + 磨辊曲线查询  **根据磨辊实绩信息，画曲线图**\n",
    "    + 轧辊磨削前后曲线查询 **轧辊基础数据 + 轧辊实绩 找出磨削前后数据 & 配对辊磨削前后实绩** \n",
    "    + 在线轧辊信息查询 **轧辊基础数据**"
   ]
  },
  {
   "cell_type": "markdown",
   "metadata": {
    "collapsed": true
   },
   "source": [
    "## 已懂   Done\n",
    "- def bet 轧辊磨削计划 and 磨辊计划\n",
    "    + 磨辊计划: 总计划\n",
    "    + 轧辊磨削计划: 磨辊计划PDI"
   ]
  },
  {
   "cell_type": "markdown",
   "metadata": {
    "collapsed": true
   },
   "source": [
    "# 轧辊生产管理\n",
    "- \n",
    "    + 1轧辊配对管理\n",
    "        - 筛选条件：适用机架 | 工作类型 | 辊形类型 | 是否花纹辊\n",
    "        - 分别选择上下辊，然后执行配对\n",
    "    + 2送辊管理功能  **更新轧辊基础信息，是否进行实时的轧辊控制？**\n",
    "    + 3轧辊PDI下达   **当前辊 & 配对辊** => **插入到ci_rollpdi表中**\n",
    "    + 4轧辊下线质量等级  - **生产下线**\n",
    "        - 轧辊基础数据 & 轧辊历程数据\n",
    "    + 5磨辊计划编制与下达\n",
    "        - 基础数据表 & 磨辊计划表\n",
    "    + 6磨辊实绩接收\n",
    "    + 7磨辊质量判定\n",
    "    + 取消磨辊质量判定\n",
    "    + 8配辊解除功能 \n",
    "        - 解除配辊信息\n",
    "    + 轧辊手动下线\n",
    "        - 磨辊下线 or 生产在用辊下线？\n",
    "    + 磨削数据维护\n",
    "        - 是磨削的基础数据吗？\n",
    "   "
   ]
  },
  {
   "cell_type": "code",
   "execution_count": null,
   "metadata": {
    "collapsed": true
   },
   "outputs": [],
   "source": []
  },
  {
   "cell_type": "code",
   "execution_count": null,
   "metadata": {
    "collapsed": true
   },
   "outputs": [],
   "source": []
  },
  {
   "cell_type": "code",
   "execution_count": null,
   "metadata": {
    "collapsed": true
   },
   "outputs": [],
   "source": []
  },
  {
   "cell_type": "code",
   "execution_count": null,
   "metadata": {
    "collapsed": true
   },
   "outputs": [],
   "source": [
    "\n",
    "\n",
    "\n",
    "\n",
    "\n",
    "\n",
    "\n",
    "\n",
    "\n",
    "\n",
    "\n",
    "\n",
    "\n",
    "\n",
    "\n",
    "\n",
    "\n",
    "\n",
    "\n",
    "\n",
    "\n",
    "\n",
    "\n",
    "\n",
    "\n",
    "\n",
    "\n",
    "\n",
    "\n",
    "\n",
    "\n",
    "\n",
    "\n",
    "\n",
    "\n",
    "\n",
    "\n",
    "\n",
    "\n",
    "\n",
    "\n",
    "\n",
    "\n",
    "\n",
    "\n",
    "\n",
    "\n",
    "\n",
    "\n",
    "\n",
    "\n",
    "\n",
    "\n",
    "\n",
    "\n",
    "\n",
    "\n"
   ]
  }
 ],
 "metadata": {
  "kernelspec": {
   "display_name": "Python 3",
   "language": "python",
   "name": "python3"
  },
  "language_info": {
   "codemirror_mode": {
    "name": "ipython",
    "version": 3
   },
   "file_extension": ".py",
   "mimetype": "text/x-python",
   "name": "python",
   "nbconvert_exporter": "python",
   "pygments_lexer": "ipython3",
   "version": "3.6.0"
  }
 },
 "nbformat": 4,
 "nbformat_minor": 2
}
