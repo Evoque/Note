{
 "cells": [
  {
   "cell_type": "markdown",
   "metadata": {},
   "source": [
    "### 不同应用程序域中的对象的通信方式\n",
    "\n",
    "- 跨应用程序域边界传输对象副本\n",
    "- 使用代理交换信息\n",
    "\n",
    "简单来说，继承此类的对象(MarshalByRefObject)的对象可以跨越应用程序域边界被引用，甚至被远程引用\n",
    "\n",
    "当一个对象需要长途跋涉到另一个环境中时，需要将其marshal成一个可以传输的形态(比如在.NET Remoting中对象将被打包成一个serializable的ObjRef实例)，同理，当打包以后传输到目标地点，还要执行unmarshal的操作将其还原为内存中的对象\n",
    "\n",
    "你实际上只拥有对这个对象的一个远程引用，虽然你可以调用它的方法，但实际上这些操作都是发生在远程的\n",
    "\n",
    "Web Services使用XML来编解码数据，并使用SOAP通信协议来传输数据。 WebService代理类的MarshalByRefObject对象的。\n",
    "\n",
    "Remoting是MarshByReference的，可以传变量的引用，直接对服务器对象进行操作。速度快，适合Intranet(企业内部网)\n",
    "WebService是MarshByValue的，必须传对象的值，速度慢，可以过FireWall，配置比较简单，适合Internet\n",
    "\n",
    "#### Dif bet Remoting and Web Service\n",
    "- 既支持TCP信道又支持HTTP信道，传输速度快\n",
    "- 既可传输XML的SOAP包又可传输二进制流，效率高\n",
    "- Remoting主要用于C/S结构项目\n",
    "- 不一定依赖ISS服务器\n",
    "\n",
    "\n",
    "一般来说，Remoting是和平台相关的，客户端&服务器都是.NET，可配置性好，可以自定义协议。\n",
    "\n",
    "Web Service可以做到跨平台通信，但必须采用SOAP协议\n",
    "\n",
    "\n",
    "\n",
    "\n",
    "\n"
   ]
  },
  {
   "cell_type": "code",
   "execution_count": null,
   "metadata": {
    "collapsed": true
   },
   "outputs": [],
   "source": []
  },
  {
   "cell_type": "code",
   "execution_count": null,
   "metadata": {
    "collapsed": true
   },
   "outputs": [],
   "source": []
  },
  {
   "cell_type": "code",
   "execution_count": null,
   "metadata": {
    "collapsed": true
   },
   "outputs": [],
   "source": []
  },
  {
   "cell_type": "code",
   "execution_count": null,
   "metadata": {
    "collapsed": true
   },
   "outputs": [],
   "source": []
  },
  {
   "cell_type": "code",
   "execution_count": null,
   "metadata": {
    "collapsed": true
   },
   "outputs": [],
   "source": []
  },
  {
   "cell_type": "code",
   "execution_count": null,
   "metadata": {
    "collapsed": true
   },
   "outputs": [],
   "source": []
  },
  {
   "cell_type": "code",
   "execution_count": null,
   "metadata": {
    "collapsed": true
   },
   "outputs": [],
   "source": []
  },
  {
   "cell_type": "code",
   "execution_count": null,
   "metadata": {
    "collapsed": true
   },
   "outputs": [],
   "source": []
  },
  {
   "cell_type": "code",
   "execution_count": null,
   "metadata": {
    "collapsed": true
   },
   "outputs": [],
   "source": []
  },
  {
   "cell_type": "code",
   "execution_count": null,
   "metadata": {
    "collapsed": true
   },
   "outputs": [],
   "source": []
  },
  {
   "cell_type": "code",
   "execution_count": null,
   "metadata": {
    "collapsed": true
   },
   "outputs": [],
   "source": []
  }
 ],
 "metadata": {
  "kernelspec": {
   "display_name": "Python 3",
   "language": "python",
   "name": "python3"
  },
  "language_info": {
   "codemirror_mode": {
    "name": "ipython",
    "version": 3
   },
   "file_extension": ".py",
   "mimetype": "text/x-python",
   "name": "python",
   "nbconvert_exporter": "python",
   "pygments_lexer": "ipython3",
   "version": "3.6.0"
  }
 },
 "nbformat": 4,
 "nbformat_minor": 2
}
