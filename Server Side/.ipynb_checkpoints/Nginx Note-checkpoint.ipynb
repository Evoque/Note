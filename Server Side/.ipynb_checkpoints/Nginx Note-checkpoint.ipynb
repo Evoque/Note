{
 "cells": [
  {
   "cell_type": "markdown",
   "metadata": {},
   "source": [
    "\n",
    "## 启动 & 重启 & 配置\n",
    "- 运行 nginx.exe 来启动nginx服务； 命令行中： start nginx\n",
    "- 如果**有修改配置文件**，需要运行 reload.bat 来重新配置 nginx；或者在命令行中运行：nginx -s reload\n",
    "- 配置文件在根目录下的conf中的 **nginx.conf**\n",
    "\n"
   ]
  },
  {
   "cell_type": "markdown",
   "metadata": {},
   "source": [
    "## 查看nginx是否运行成功\n",
    "- tasklist /fi \"imagename eq nginx.exe\"\n",
    "\n",
    "\n",
    "\n"
   ]
  },
  {
   "cell_type": "markdown",
   "metadata": {},
   "source": [
    "## 其他常用命令\n",
    "\n",
    "- 查看进程: ** tasklist **\n",
    "- 然后根据进程号查看: ** tasklist | findstr \"...\" **\n",
    "- 然后根据相关信息查询端口占用情况: ** netstat -ano | findstr \"LISTENING\" | findstr \"3508\"** \n",
    "    + 使用 ** netstat -ano ** 查看的内容包括：协议(TCP)、本地地址(0.0.0.0:80)、外部地址(0.0.0.0:0)、状态(LISTENING、ESTABLISHED、CLOSE_WAIT)、PID(进程号)\n",
    "\n",
    "\n"
   ]
  },
  {
   "cell_type": "code",
   "execution_count": null,
   "metadata": {
    "collapsed": true
   },
   "outputs": [],
   "source": []
  }
 ],
 "metadata": {
  "kernelspec": {
   "display_name": "Python [default]",
   "language": "python",
   "name": "python3"
  },
  "language_info": {
   "codemirror_mode": {
    "name": "ipython",
    "version": 3
   },
   "file_extension": ".py",
   "mimetype": "text/x-python",
   "name": "python",
   "nbconvert_exporter": "python",
   "pygments_lexer": "ipython3",
   "version": "3.6.0"
  }
 },
 "nbformat": 4,
 "nbformat_minor": 2
}
