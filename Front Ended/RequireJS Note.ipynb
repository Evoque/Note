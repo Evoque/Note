{
 "cells": [
  {
   "cell_type": "markdown",
   "metadata": {},
   "source": [
    "## require.js 诞生的目的，解决两个问题：\n",
    "\n",
    "- 实现js文件的异步加载，避免网页失去响应\n",
    "- 管理模块之间的依赖性，便于代码的编写和维护\n",
    "\n",
    "\n",
    "### 避免加载文件时造成网页失去响应，两个解决办法：\n",
    "\n",
    "- 放在网页的底部加载\n",
    "- 用关键字：**defer async=\"true\"**\n",
    "    + IE 不支持async，只支持defer，所以要把defer加上\n"
   ]
  },
  {
   "cell_type": "markdown",
   "metadata": {},
   "source": [
    "## 加载JS文件\n",
    "- 为了代码的模块化：用它来加速、优化代码\n",
    "    + 鼓励在使用脚本的时候以module ID替代URL地址\n",
    "\n",
    "- RequireJS以一个相对于baseUrl的地址来加载所有的代码。\n",
    "- baseUrl可通过RequireJS config手动设置，如果没有显示指定config及data-main,则默认的baseUrl为包含RequireJS的那个HTML页面的所属目录\n",
    "－RequreJS默认假定所有的依赖资源都是js脚本，因此无需再module ID上再加上\".js\"后缀。RequireJS在进行module ID到path的解析时会自动补上后缀。\n",
    "\n",
    "- data-main: 指定网页程序的主模块， 这个文件会第一个被require.js加载，requirejs默认的文件后缀名是js，所以可以省略\n",
    "\n",
    "\n",
    "- require.config()：自定义模块的加载行为，下载主模块(main.js/ data-main指代的文件)的头部，参数是一个对象，对象的paths属性指定各个模块的加载路径。"
   ]
  },
  {
   "cell_type": "code",
   "execution_count": null,
   "metadata": {
    "collapsed": true
   },
   "outputs": [],
   "source": []
  },
  {
   "cell_type": "code",
   "execution_count": null,
   "metadata": {
    "collapsed": true
   },
   "outputs": [],
   "source": []
  },
  {
   "cell_type": "code",
   "execution_count": null,
   "metadata": {
    "collapsed": true
   },
   "outputs": [],
   "source": []
  },
  {
   "cell_type": "code",
   "execution_count": null,
   "metadata": {
    "collapsed": true
   },
   "outputs": [],
   "source": []
  },
  {
   "cell_type": "code",
   "execution_count": null,
   "metadata": {
    "collapsed": true
   },
   "outputs": [],
   "source": []
  }
 ],
 "metadata": {
  "kernelspec": {
   "display_name": "Python [default]",
   "language": "python",
   "name": "python3"
  },
  "language_info": {
   "codemirror_mode": {
    "name": "ipython",
    "version": 3
   },
   "file_extension": ".py",
   "mimetype": "text/x-python",
   "name": "python",
   "nbconvert_exporter": "python",
   "pygments_lexer": "ipython3",
   "version": "3.6.0"
  }
 },
 "nbformat": 4,
 "nbformat_minor": 2
}
