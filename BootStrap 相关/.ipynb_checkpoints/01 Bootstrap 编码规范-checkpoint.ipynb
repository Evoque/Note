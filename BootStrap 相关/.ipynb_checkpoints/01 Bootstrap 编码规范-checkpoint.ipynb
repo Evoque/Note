{
 "cells": [
  {
   "cell_type": "markdown",
   "metadata": {},
   "source": [
    "\n",
    "## 不管有多少人共同参与同一项目、一定要确保每一行代码都像是同一个人编写的\n",
    "\n",
    " "
   ]
  },
  {
   "cell_type": "markdown",
   "metadata": {},
   "source": [
    "# HTML"
   ]
  },
  {
   "cell_type": "markdown",
   "metadata": {},
   "source": [
    "## 语法\n",
    "\n",
    "- 属性的定义，确保全部使用双引号，绝不要使用单引号 \n",
    "- 不要在自闭合元素的尾部添加斜线(self-closing)\n",
    "- 不要省略可选的结束标签(closing tag)\n",
    "\n",
    "\n"
   ]
  },
  {
   "cell_type": "markdown",
   "metadata": {
    "collapsed": true
   },
   "source": [
    "\n",
    "- 为每个页面添加标准模式(standard mode)：<!DOCTYPE html>， 确保在每个浏览器中拥有一致的展现\n",
    "\n"
   ]
  },
  {
   "cell_type": "markdown",
   "metadata": {
    "collapsed": true
   },
   "source": [
    "## 语言属性\n",
    "\n",
    "- 根据H5规范：\n",
    "```\n",
    "    强烈建议为html根元素指定lang属性，从而为文档设置正确的语言。这将有助于语音合成工具确定其所应该采用的发音， 有助于翻译工具确定其翻译时所应遵守的规则。\n",
    "    如：<html lang=\"en-us\">\n",
    "```\n",
    " "
   ]
  },
  {
   "cell_type": "markdown",
   "metadata": {},
   "source": [
    "## IE 兼容模式\n",
    "\n",
    "- IE 支持通过特定的 meta 标签来确定绘制当前页面所应该采用的IE版本。\n",
    "- 除非有强烈的特殊要求，否则最好是设置为**edge mode**,\n",
    "- ``` <meta http-equiv=\"X-UA-Compatible\" content=\"IE=Edge\"> ```\n",
    "    + \"IE=edge\"\n",
    "    + \"IE=11\"\n",
    "    + \"IE=EmulateIE11\"\n",
    "- If you need to support **IE 9 or IE 8**, then I would recommend using the the **X-UA-Compatible**\n",
    "- If you only support the **latest browsers**(IE 11 and/or Edge), You can dropping this tag "
   ]
  },
  {
   "cell_type": "markdown",
   "metadata": {},
   "source": [
    "## 字符编码\n",
    "\n",
    "- 通过明确声明字符编码，能够确保浏览器快速并容易的判断页面内容的渲染方式。 这样做的好处是，可以避免在HTML中使用字符实体标记(character entity),从而全部与文档编码一直(**一般采用UTF-8编码**)\n",
    "- `<meta charset=\"UTF-8\">`\n",
    "\n",
    "\n",
    "\n",
    "\n",
    "\n",
    "\n",
    "\n",
    "\n",
    "\n",
    "\n",
    "\n",
    "\n"
   ]
  },
  {
   "cell_type": "markdown",
   "metadata": {},
   "source": [
    "## 实用为王\n",
    "\n",
    "- 尽量遵守HTML标准和语义，但是不要以牺牲实用性为代价。 任何时候都要尽量使用最少的标签并保持最小的复杂度。\n",
    "\n",
    "\n"
   ]
  },
  {
   "cell_type": "markdown",
   "metadata": {},
   "source": [
    "## 属性顺序\n",
    "\n",
    "- HTML属性应当按照以下给出的顺序依次排列，确保代码的易读性\n",
    "    + class\n",
    "    + id, name\n",
    "    + `data-*`\n",
    "    + src, for, type, href, value\n",
    "    + title, alt\n",
    "    + role, `aria-*`\n",
    "- class用于标识高度可复用组件，因此排在首位。id用于标识具体组件，应当谨慎使用(例如，页面内的书签),因此排在第二位.\n"
   ]
  },
  {
   "cell_type": "markdown",
   "metadata": {},
   "source": [
    "## 布尔(boolean)型属性\n",
    "\n",
    "- disabled\n",
    "- checked\n",
    "- selected \n"
   ]
  },
  {
   "cell_type": "markdown",
   "metadata": {},
   "source": [
    "## 减少标签的数量\n",
    "\n",
    "- 在编写HTML代码时，尽量避免多余的父元素，很多时候，这需要迭代和重构来实现：\n",
    "```\n",
    "  <!-- Not so great -->\n",
    "  <span class=\"avatar\">\n",
    "    <img src=\"...\">\n",
    "  </span>\n",
    "    \n",
    "  <!-- Better -->\n",
    "  <img class=\"avatar\" src=\"...\">\n",
    "```\n"
   ]
  },
  {
   "cell_type": "markdown",
   "metadata": {},
   "source": [
    "## JavaScript生成的标签\n",
    "\n",
    "- 通过JS生成的标签让内容变得不易查找、编辑，并且降低性能。能避免时尽量避免。\n",
    " "
   ]
  },
  {
   "cell_type": "markdown",
   "metadata": {},
   "source": [
    "# CSS"
   ]
  },
  {
   "cell_type": "markdown",
   "metadata": {},
   "source": [
    "- 不要在rgb()、rgba()、hsl()、hsla()或rect() 值的内部的逗号后面插入空格。这样利于从多个属性值(既加逗号也加空格)中区分多个颜色值(只加逗号，不加空格).\n",
    "\n",
    "- 对于属性值或颜色参数，省略小于1的小数前面的0(例如，**.5**代替**0.5**; **-.5px** 代替 **-0.5px**);\n",
    "\n",
    "- 尽量使用简写形式的十六进制值，例如：用 **#fff** 代替 **#ffffff**\n",
    "\n",
    "- 避免为0值指定单位，例如：用 **margin:0;** 代替 **margin: 0px;**\n",
    "\n"
   ]
  },
  {
   "cell_type": "markdown",
   "metadata": {},
   "source": [
    "## 声明顺序\n",
    "\n",
    "### 相关的属性声明应当归为一组，并按照下面的顺序排列：\n",
    "- Positioning\n",
    "- Box Model\n",
    "- Typographic\n",
    "- Visual\n",
    "- 例如:\n",
    "```\n",
    "    .declaration-order {\n",
    "        /* Positioning */\n",
    "        position: absolute;\n",
    "        top: 0;\n",
    "        right: 0;\n",
    "        bottom: 0;\n",
    "        left: 0;\n",
    "        z-index: 100;\n",
    "        \n",
    "        /* Box-model */\n",
    "        display: block;\n",
    "        float: right;\n",
    "        width: 100px;\n",
    "        height: 100px;\n",
    "        \n",
    "        /* Typography */\n",
    "        font: normal 13px \"Helvetica Neue\", sans-serif;\n",
    "        line-height: 1.5;\n",
    "        color: #333;\n",
    "        text-aligh: center;\n",
    "        \n",
    "        /* Visual */\n",
    "        background-color: #f5f5f5;\n",
    "        border: 1px solid #e5e5e5;\n",
    "        border-radius: 3px;\n",
    "        \n",
    "        /* Misc */\n",
    "        opacity: 1;\n",
    "    }\n",
    "```\n",
    "- 由于定位(**positioning**)可以从正常的文档流中移除元素，并且还能**覆盖**盒模型(box model)相关的样式，因此排在首位。盒模型排在第二位，因为它决定了组件的**尺寸**和**位置**。\n",
    "\n",
    "\n",
    "\n",
    "\n",
    "\n",
    "\n",
    "\n",
    "\n",
    "\n"
   ]
  },
  {
   "cell_type": "markdown",
   "metadata": {},
   "source": [
    "## 不要使用@import\n",
    "\n",
    "- 与`<link>`标签相比，`@import`指令要慢很多，不光增加了额外的请求次数，还会导致不可预料的问题。替代方法：\n",
    "    + 使用多个`<link>`元素\n",
    "    + 通过Sass或Less类似的CSS预处理器将多个CSS文件编译为一个文件。\n"
   ]
  },
  {
   "cell_type": "markdown",
   "metadata": {},
   "source": [
    "## 媒体查询(Media query)的位置\n",
    "\n",
    "- 将媒体查询放在尽可能相关规则的附近。 不要将他们打包放在一个单一样式文件中或者放在文档底部， 如：\n",
    "```\n",
    "    .element { ... }\n",
    "    .element-avatar { ... }\n",
    "    .element-selected { ... }\n",
    "    \n",
    "    @media (min-width: 480px) {\n",
    "        .element { ... }\n",
    "        .element-avatar { ... }\n",
    "        .element-selected { ... }\n",
    "    }\n",
    "```\n",
    "\n",
    "\n"
   ]
  },
  {
   "cell_type": "markdown",
   "metadata": {},
   "source": [
    "## 单行规则声明\n",
    "\n",
    "- 对于**只包含一条声明**的样式，为了易读性和便于快速编辑，建议将语句放在同一行。\n",
    "\n",
    "\n"
   ]
  },
  {
   "cell_type": "markdown",
   "metadata": {},
   "source": [
    "## 简写形式的属性声明\n",
    "\n",
    "- 在需要显示地设置所有值的情况下，应当尽量限制使用简写形式的属性声明，常用的滥用简写属性声明的情况如下：\n",
    "    + padding\n",
    "    + margin\n",
    "    + font\n",
    "    + background\n",
    "    + border\n",
    "    + border-radius\n",
    "\n",
    "- 过度的使用简写形式的属性声明会导致代码混乱，并且会对属性值带来不必要的覆盖从而引起意外的副作用。\n",
    "\n"
   ]
  },
  {
   "cell_type": "markdown",
   "metadata": {},
   "source": [
    "## Less 和 Sass 中的嵌套\n",
    "\n",
    "- 避免不必要的嵌套。只有在必须将样式限制在父元素内(也就是后代选择器)，并且存在多个需要嵌套的元素时才使用嵌套。\n",
    "\n",
    "\n",
    "\n",
    "\n",
    "\n",
    "\n",
    "\n",
    "\n",
    "\n",
    "\n"
   ]
  },
  {
   "cell_type": "code",
   "execution_count": null,
   "metadata": {
    "collapsed": true
   },
   "outputs": [],
   "source": []
  },
  {
   "cell_type": "code",
   "execution_count": null,
   "metadata": {
    "collapsed": true
   },
   "outputs": [],
   "source": []
  },
  {
   "cell_type": "code",
   "execution_count": null,
   "metadata": {
    "collapsed": true
   },
   "outputs": [],
   "source": []
  },
  {
   "cell_type": "code",
   "execution_count": null,
   "metadata": {
    "collapsed": true
   },
   "outputs": [],
   "source": []
  },
  {
   "cell_type": "code",
   "execution_count": null,
   "metadata": {
    "collapsed": true
   },
   "outputs": [],
   "source": []
  },
  {
   "cell_type": "code",
   "execution_count": null,
   "metadata": {
    "collapsed": true
   },
   "outputs": [],
   "source": []
  },
  {
   "cell_type": "code",
   "execution_count": null,
   "metadata": {
    "collapsed": true
   },
   "outputs": [],
   "source": []
  },
  {
   "cell_type": "code",
   "execution_count": null,
   "metadata": {
    "collapsed": true
   },
   "outputs": [],
   "source": []
  },
  {
   "cell_type": "code",
   "execution_count": null,
   "metadata": {
    "collapsed": true
   },
   "outputs": [],
   "source": []
  }
 ],
 "metadata": {
  "kernelspec": {
   "display_name": "Python [default]",
   "language": "python",
   "name": "python3"
  },
  "language_info": {
   "codemirror_mode": {
    "name": "ipython",
    "version": 3
   },
   "file_extension": ".py",
   "mimetype": "text/x-python",
   "name": "python",
   "nbconvert_exporter": "python",
   "pygments_lexer": "ipython3",
   "version": "3.6.0"
  }
 },
 "nbformat": 4,
 "nbformat_minor": 2
}
