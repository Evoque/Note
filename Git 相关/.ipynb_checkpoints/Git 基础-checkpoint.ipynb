{
 "cells": [
  {
   "cell_type": "markdown",
   "metadata": {},
   "source": [
    "## Git思想和基本工作原理\n",
    "\n",
    "- Git 与其他版本控制系统的做法颇为不同\n",
    "\n",
    "- Git并不保存这些前后变化的差异数据，实际上，Git更像是把变化的文件作快照后，记录在一个微型的文件系统中\n",
    "\n",
    "### 近乎所有操作都是本地执行\n",
    "\n",
    "- 在Git中的绝大多数操作都只需要访问本地文件和资源，不用联网。如果是CVCS的话，所有操作都需要连接网络。 因为Git在本地磁盘上就保存着所有当前项目的历史更新，所以处理起来飞快。\n",
    "\n",
    "- 如果你想要查看当前版本的文件和一个月前版本之间的差异，Git会取出一个月前的快照和当前文件作一次差异运算。 "
   ]
  },
  {
   "cell_type": "markdown",
   "metadata": {},
   "source": [
    "### 时刻保持数据完整性\n",
    "\n",
    "- 在保存到Git之前，所有数据都要进行内容的校验和(checksum)计算，并将此结果作为数据的唯一标识和索引。 如果文件在传输时变得不完整，或者磁盘损坏导致文件数据缺失，Git都能立即察觉。\n",
    "\n",
    "- Git使用SHA-1算法计算数据的校验和，通过对文件的内容或目录的结构计算出一个SHA-1哈希值，作为指纹字符串。 该字符串由40个十六进制字符(0-9及a-f)组成，看起来像：\n",
    "    + 24b9da6552252987aa493b52f8696cd6d3b00373\n",
    "\n",
    "- 所有保存在Git数据库中的东西都是用此哈希值来作为索引的，而不是靠文件名\n",
    "\n"
   ]
  },
  {
   "cell_type": "markdown",
   "metadata": {},
   "source": [
    "## 多数操作仅添加数据\n",
    "\n",
    "- 要养成定期推送到其他仓库的习惯 "
   ]
  },
  {
   "cell_type": "markdown",
   "metadata": {},
   "source": [
    "## 文件的三种状态\n",
    "\n",
    "- 已提交(committed)：该文件已经被安全的保存在本地数据库中了\n",
    "- 已修改(modified)：修改了某个文件，但还没有提交保存\n",
    "- 已暂存(staged)：把已修改的文件放在下次提交时要保存的清单中\n",
    " \n",
    "- 每个项目都有一个Git目录(如果**git clone** 出来的话，就是其中的**.git**目录；如果是**git clone --bare**的话，新建的目录本身就是Git目录。)　它是Git用来保存元数据和对象数据库的地方。 该目录非常重要，每次克隆镜像仓库的时候，实际拷贝的就是这个目录里面的数据。\n",
    "\n",
    "\n",
    "Git工作流程：\n",
    "- 在工作目录中修改某些文件\n",
    "- 对修改后的文件进行快照，然后保存到暂存区域\n",
    "- 提交更新，将保存在暂存区域的文件快照永久转储到Git目录中\n",
    "\n",
    "\n",
    "+ 学会如何根据文件状态实施后续操作，以及怎样跳过暂存直接提交\n",
    "\n"
   ]
  },
  {
   "cell_type": "markdown",
   "metadata": {},
   "source": [
    "## Git配置\n",
    "- git config --system : /ect/gitconfig: 系统中队所有用户都普遍适用的配置\n",
    "- git config --global: ~/.gitconfig ：用户目录下的配置文件只适用于该用户\n"
   ]
  },
  {
   "cell_type": "markdown",
   "metadata": {},
   "source": [
    "## 相关配置代码\n",
    "\n",
    "- git config --global user.name \"Evoque\"\n",
    "- git config --global user.email rubievoque@gmail.com\n",
    "- git config --global merge.tool vimdiff\n",
    "- git config --list :查看已有配置信息\n",
    "- git config user.name: 直接查阅某个环境变量的设定。\n",
    "- 获取帮助\n",
    "    + git help <verb>\n",
    "    + git <verb> --help\n",
    "    + man git -<verb>\n",
    "\n",
    "\n",
    "\n",
    "\n"
   ]
  },
  {
   "cell_type": "markdown",
   "metadata": {},
   "source": [
    "## Git 基础\n",
    "\n",
    "\n",
    "\n",
    "\n",
    "\n",
    "\n",
    "\n",
    "\n",
    "\n",
    "\n",
    "\n",
    "\n"
   ]
  },
  {
   "cell_type": "markdown",
   "metadata": {},
   "source": [
    "## git clone:  这里并不是checkout，这是一个非常重要的差别，Git收取的是项目历史的所有数据(每一个文件的每一个版本)，服务器上有的数据克隆之后本地也都有了。\n",
    "- 即使服务器的磁盘发生故障，用任何一个克隆出来的客户端都可以重建服务器上的仓库\n",
    "\n",
    "- **git ls-files**：查看git管理的所有文件目录\n",
    "- **git reset HEAD** `<file>`...: to unstage\n",
    "\n",
    "- **git add**： 是个多功能命令，根据目标文件的状态的不同，效果不同；可以用它开始跟踪新文件；或者把已跟踪的文件放到暂存区；还能用于合并时把有冲突的文件标记为已解决状态等。\n",
    "    + 运行了**git add**之后又做了修订的文件，需要重新运行**git add**把最新版本重新暂存起来；\n",
    "\n",
    "- **git diff**：显示还没有缓存起来的改动\n",
    "- **git diff --cached(git diff --staged)**： 已经暂存起来的文件和上次提交时的快照之间的差异"
   ]
  },
  {
   "cell_type": "code",
   "execution_count": null,
   "metadata": {
    "collapsed": true
   },
   "outputs": [],
   "source": []
  },
  {
   "cell_type": "code",
   "execution_count": null,
   "metadata": {
    "collapsed": true
   },
   "outputs": [],
   "source": []
  },
  {
   "cell_type": "code",
   "execution_count": null,
   "metadata": {
    "collapsed": true
   },
   "outputs": [],
   "source": []
  },
  {
   "cell_type": "code",
   "execution_count": null,
   "metadata": {
    "collapsed": true
   },
   "outputs": [],
   "source": []
  },
  {
   "cell_type": "code",
   "execution_count": null,
   "metadata": {
    "collapsed": true
   },
   "outputs": [],
   "source": []
  },
  {
   "cell_type": "code",
   "execution_count": null,
   "metadata": {
    "collapsed": true
   },
   "outputs": [],
   "source": []
  },
  {
   "cell_type": "code",
   "execution_count": null,
   "metadata": {
    "collapsed": true
   },
   "outputs": [],
   "source": []
  },
  {
   "cell_type": "code",
   "execution_count": null,
   "metadata": {
    "collapsed": true
   },
   "outputs": [],
   "source": []
  },
  {
   "cell_type": "code",
   "execution_count": null,
   "metadata": {
    "collapsed": true
   },
   "outputs": [],
   "source": []
  },
  {
   "cell_type": "code",
   "execution_count": null,
   "metadata": {
    "collapsed": true
   },
   "outputs": [],
   "source": []
  },
  {
   "cell_type": "code",
   "execution_count": null,
   "metadata": {
    "collapsed": true
   },
   "outputs": [],
   "source": []
  },
  {
   "cell_type": "code",
   "execution_count": null,
   "metadata": {
    "collapsed": true
   },
   "outputs": [],
   "source": []
  },
  {
   "cell_type": "code",
   "execution_count": null,
   "metadata": {
    "collapsed": true
   },
   "outputs": [],
   "source": []
  },
  {
   "cell_type": "code",
   "execution_count": null,
   "metadata": {
    "collapsed": true
   },
   "outputs": [],
   "source": []
  },
  {
   "cell_type": "code",
   "execution_count": null,
   "metadata": {
    "collapsed": true
   },
   "outputs": [],
   "source": []
  },
  {
   "cell_type": "code",
   "execution_count": null,
   "metadata": {
    "collapsed": true
   },
   "outputs": [],
   "source": []
  },
  {
   "cell_type": "code",
   "execution_count": null,
   "metadata": {
    "collapsed": true
   },
   "outputs": [],
   "source": []
  },
  {
   "cell_type": "code",
   "execution_count": null,
   "metadata": {
    "collapsed": true
   },
   "outputs": [],
   "source": []
  },
  {
   "cell_type": "code",
   "execution_count": null,
   "metadata": {
    "collapsed": true
   },
   "outputs": [],
   "source": []
  },
  {
   "cell_type": "code",
   "execution_count": null,
   "metadata": {
    "collapsed": true
   },
   "outputs": [],
   "source": []
  },
  {
   "cell_type": "code",
   "execution_count": null,
   "metadata": {
    "collapsed": true
   },
   "outputs": [],
   "source": []
  }
 ],
 "metadata": {
  "kernelspec": {
   "display_name": "Python [default]",
   "language": "python",
   "name": "python3"
  },
  "language_info": {
   "codemirror_mode": {
    "name": "ipython",
    "version": 3
   },
   "file_extension": ".py",
   "mimetype": "text/x-python",
   "name": "python",
   "nbconvert_exporter": "python",
   "pygments_lexer": "ipython3",
   "version": "3.6.0"
  }
 },
 "nbformat": 4,
 "nbformat_minor": 2
}
